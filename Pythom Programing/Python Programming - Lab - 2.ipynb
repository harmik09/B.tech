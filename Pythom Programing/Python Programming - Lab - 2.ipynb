{
 "cells": [
  {
   "cell_type": "markdown",
   "metadata": {},
   "source": [
    "\n",
    "<a href='https://www.darshan.ac.in/'> <img src='https://www.darshan.ac.in/Content/media/DU_Logo.svg' width=\"250\" height=\"300\"/></a>\n",
    "<pre>\n",
    "<center><b><h1>Python Programming - 2301CS404</b></center>\n",
    "<center><b><h1>Lab - 2</b></center>    \n",
    "<pre>"
   ]
  },
  {
   "cell_type": "markdown",
   "metadata": {},
   "source": [
    "# if..else.."
   ]
  },
  {
   "cell_type": "markdown",
   "metadata": {},
   "source": [
    "### 01) WAP to check whether the given number is positive or negative."
   ]
  },
  {
   "cell_type": "code",
   "execution_count": 1,
   "metadata": {},
   "outputs": [
    {
     "name": "stdout",
     "output_type": "stream",
     "text": [
      "Enter Number10\n",
      "10 is positive\n"
     ]
    }
   ],
   "source": [
    "no=int(input(\"Enter Number:\"))\n",
    "\n",
    "if(no>0):\n",
    "    print(no,\"is positive\")\n",
    "else:\n",
    "    print(no,\"is negative\")"
   ]
  },
  {
   "cell_type": "markdown",
   "metadata": {},
   "source": [
    "### 02) WAP to check whether the given number is odd or even."
   ]
  },
  {
   "cell_type": "code",
   "execution_count": 5,
   "metadata": {},
   "outputs": [
    {
     "name": "stdout",
     "output_type": "stream",
     "text": [
      "Enter Number:2\n",
      "2 is even\n"
     ]
    }
   ],
   "source": [
    "no=int(input(\"Enter Number:\"))\n",
    "\n",
    "if(no%2==0):\n",
    "    print(no,\"is even\")\n",
    "else:\n",
    "    print(no,\"is odd\")"
   ]
  },
  {
   "cell_type": "markdown",
   "metadata": {},
   "source": [
    "### 03) WAP to find out largest number from given two numbers using simple if and ternary operator."
   ]
  },
  {
   "cell_type": "code",
   "execution_count": 8,
   "metadata": {},
   "outputs": [
    {
     "name": "stdout",
     "output_type": "stream",
     "text": [
      "Enter first number:10\n",
      "Enter second number:20\n",
      "20 is large\n",
      "20 is large\n"
     ]
    }
   ],
   "source": [
    "no1=int(input(\"Enter first number:\"))\n",
    "no2=int(input(\"Enter second number:\"))\n",
    "\n",
    "if(no1>no2):\n",
    "    print(no1,\"is large\")\n",
    "else:\n",
    "    print(no2,\"is large\")\n",
    "\n",
    "large=print(no1,\"is large\") if no1>no2 else print(no2,\"is large\")"
   ]
  },
  {
   "cell_type": "markdown",
   "metadata": {},
   "source": [
    "### 04) WAP to find out largest number from given three numbers."
   ]
  },
  {
   "cell_type": "code",
   "execution_count": 10,
   "metadata": {},
   "outputs": [
    {
     "name": "stdout",
     "output_type": "stream",
     "text": [
      "Enter first number:10\n",
      "Enter second number:5\n",
      "Enter third number:30\n",
      "30 is large\n"
     ]
    }
   ],
   "source": [
    "no1=int(input(\"Enter first number:\"))\n",
    "no2=int(input(\"Enter second number:\"))\n",
    "no3=int(input(\"Enter third number:\"))\n",
    "\n",
    "if(no1>no2 and no1>no3):\n",
    "    print(no1,\"is large\")\n",
    "elif(no2>no1 and no2>no3):\n",
    "    print(no2,\"is large\")\n",
    "else:\n",
    "    print(no3,\"is large\")"
   ]
  },
  {
   "cell_type": "markdown",
   "metadata": {},
   "source": [
    "### 05) WAP to check whether the given year is leap year or not.\n",
    "[If a year can be divisible by 4 but not divisible by 100 then it is leap year but if it is divisible by 400 then it is leap year]"
   ]
  },
  {
   "cell_type": "code",
   "execution_count": 12,
   "metadata": {},
   "outputs": [
    {
     "name": "stdout",
     "output_type": "stream",
     "text": [
      "Enter Year:2024\n",
      "2024 is leap year\n"
     ]
    }
   ],
   "source": [
    "year=int(input(\"Enter Year:\"))\n",
    "\n",
    "if((year%4==0 and year%100!=0) or year%400==0):\n",
    "    print(year,\"is leap year\")\n",
    "else:\n",
    "    print(year,\"is not leap year\")"
   ]
  },
  {
   "cell_type": "markdown",
   "metadata": {},
   "source": [
    "### 06) WAP in python to display the name of the day according to the number given by the user."
   ]
  },
  {
   "cell_type": "code",
   "execution_count": 18,
   "metadata": {},
   "outputs": [
    {
     "name": "stdout",
     "output_type": "stream",
     "text": [
      "Enter Number:9\n",
      "Invalid\n"
     ]
    }
   ],
   "source": [
    "no=int(input(\"Enter Number:\"))\n",
    "\n",
    "match(no):\n",
    "    case 1:\n",
    "        print(\"Monday\")\n",
    "        \n",
    "    case 2:\n",
    "        print(\"Tuesday\")\n",
    "        \n",
    "    case 3:\n",
    "        print(\"Wednesday\")\n",
    "        \n",
    "    case 4:\n",
    "        print(\"Thrusday\")\n",
    "        \n",
    "    case 5:\n",
    "        print(\"Friday\")\n",
    "        \n",
    "    case 6:\n",
    "        print(\"Saturday\")\n",
    "        \n",
    "    case 7:\n",
    "        print(\"Sunday\")\n",
    "        \n",
    "    case _:\n",
    "        print(\"Invalid\")\n",
    "        "
   ]
  },
  {
   "cell_type": "markdown",
   "metadata": {},
   "source": [
    "### 07) WAP to implement simple calculator which performs (add,sub,mul,div) of two no. based on user input."
   ]
  },
  {
   "cell_type": "code",
   "execution_count": 25,
   "metadata": {},
   "outputs": [
    {
     "name": "stdout",
     "output_type": "stream",
     "text": [
      "Enter first number:10\n",
      "Enter second number:20\n",
      "Enter choice \n",
      " 1.Addition \n",
      " 2.Subtraction \n",
      " 3.Multiplication \n",
      " 4.Division1\n",
      "30\n"
     ]
    }
   ],
   "source": [
    "no1=int(input(\"Enter first number:\"))\n",
    "no2=int(input(\"Enter second number:\"))\n",
    "\n",
    "choice=int(input(\"Enter choice \\n 1.Addition \\n 2.Subtraction \\n 3.Multiplication \\n 4.Division\"))\n",
    "match(choice):\n",
    "    case 1:\n",
    "        print(no1+no2)\n",
    "        \n",
    "    case 2:\n",
    "        print(no1-no2)\n",
    "        \n",
    "    case 3:\n",
    "        print(no1*no2)\n",
    "        \n",
    "    case 4:\n",
    "        print(no1/no2)\n",
    "        \n",
    "    case _:\n",
    "        print(\"Invalid\")"
   ]
  },
  {
   "cell_type": "markdown",
   "metadata": {},
   "source": [
    "### 08) WAP to read marks of five subjects. Calculate percentage and print class accordingly. \n",
    "Fail below 35 </br>\n",
    "Pass Class between 35 to 45 </br>\n",
    "Second Class</br>\n",
    "between 45 to 60</br>\n",
    "First Class between 60 to 70</br> \n",
    "Distinction if more than 70"
   ]
  },
  {
   "cell_type": "code",
   "execution_count": 29,
   "metadata": {},
   "outputs": [
    {
     "name": "stdout",
     "output_type": "stream",
     "text": [
      "Enter first Marks:98\n",
      "Enter second Marks:98\n",
      "Enter third Marks:98\n",
      "Enter fourth Marks:98\n",
      "Enter fifth Marks:98\n",
      "Distinction\n"
     ]
    }
   ],
   "source": [
    "sub1=float(input(\"Enter first Marks:\"))\n",
    "sub2=float(input(\"Enter second Marks:\"))\n",
    "sub3=float(input(\"Enter third Marks:\"))\n",
    "sub4=float(input(\"Enter fourth Marks:\"))\n",
    "sub5=float(input(\"Enter fifth Marks:\"))\n",
    "\n",
    "persentage=((sub1+sub2+sub3+sub4+sub3)/500)*100\n",
    "\n",
    "if(persentage<35):\n",
    "    print(\"Fail\")\n",
    "elif(persentage>35 and persentage<45):\n",
    "    print(\"Pass Class\")\n",
    "elif(persentage>45 and persentage<55):\n",
    "    print(\"Second Class\")\n",
    "elif(persentage>60 and persentage<70):\n",
    "    print(\"Tird Class\")\n",
    "elif(persentage>70):\n",
    "    print(\"Distinction\")"
   ]
  },
  {
   "cell_type": "markdown",
   "metadata": {},
   "source": [
    "### 09) Three sides of a triangle are entered through the keyboard, WAP to check whether the triangle is isosceles, equilateral, scalene or right-angled triangle."
   ]
  },
  {
   "cell_type": "code",
   "execution_count": 32,
   "metadata": {},
   "outputs": [
    {
     "name": "stdout",
     "output_type": "stream",
     "text": [
      "Enter side 1:30\n",
      "Enter side 2:60\n",
      "Enter side 3:90\n",
      "Triangle is Scalene\n"
     ]
    }
   ],
   "source": [
    "side1=float(input(\"Enter side 1:\"))\n",
    "side2=float(input(\"Enter side 2:\"))\n",
    "side3=float(input(\"Enter side 3:\"))\n",
    "\n",
    "side1sq=side1*side1\n",
    "side2sq=side2*side2\n",
    "side3sq=side3*side3\n",
    "\n",
    "if(side1==side2 or side1==side3 or side2==side3):\n",
    "    print(\"Triangle is Isosceles\")\n",
    "elif(side1==side2==side3):\n",
    "    print(\"Triangle is Equilateral\")\n",
    "elif(side1!=side2!=side3):\n",
    "    print(\"Triangle is Scalene\")\n",
    "elif(side1sq==side2sq+side3sq or side2==side1sq+side3sq or side3sq==side1sq+side2sq):\n",
    "    print(\"Right angle\")"
   ]
  },
  {
   "cell_type": "markdown",
   "metadata": {},
   "source": [
    "### 10) WAP to find the second largest number among three user input numbers."
   ]
  },
  {
   "cell_type": "code",
   "execution_count": 34,
   "metadata": {},
   "outputs": [
    {
     "name": "stdout",
     "output_type": "stream",
     "text": [
      "Enter first number:10\n",
      "Enter second number:20\n",
      "Enter Third number:30\n",
      "20 is second Largest\n"
     ]
    }
   ],
   "source": [
    "no1=int(input(\"Enter first number:\"))\n",
    "no2=int(input(\"Enter second number:\"))\n",
    "no3=int(input(\"Enter Third number:\"))\n",
    "\n",
    "if(no1>no2 and no1>no3):\n",
    "    if(no2>no3):\n",
    "        print(no2,\"is second Largest\")\n",
    "    else:\n",
    "        print(no3,\"is second Largest\")\n",
    "elif(no2>no1 and no2>no3):\n",
    "    if(no1>no3):\n",
    "        print(no1,\"is Second Largest\")\n",
    "    else:\n",
    "        print(no3,\"is is second Largest\")\n",
    "elif(no3>no1 and no3>no2):\n",
    "    if(no1>no2):\n",
    "        print(no1,\"is Second Largest\")\n",
    "    else:\n",
    "        print(no2,\"is second Largest\")"
   ]
  },
  {
   "cell_type": "markdown",
   "metadata": {},
   "source": [
    "### 11) WAP to calculate electricity bill based on following criteria. Which takes the unit from the user.\n",
    "a. First 1 to 50 units – Rs. 2.60/unit</br>\n",
    "b. Next 50 to 100 units – Rs. 3.25/unit</br>\n",
    "c. Next 100 to 200 units – Rs. 5.26/unit</br>\n",
    "d. above 200 units – Rs. 8.45/unit"
   ]
  },
  {
   "cell_type": "code",
   "execution_count": 35,
   "metadata": {},
   "outputs": [
    {
     "name": "stdout",
     "output_type": "stream",
     "text": [
      "Enter Unit:2\n",
      "Your Bill is: 5.2\n"
     ]
    }
   ],
   "source": [
    "unit=float(input(\"Enter Unit:\"))\n",
    "\n",
    "if(unit<=50):\n",
    "    bill=unit*2.60\n",
    "elif(unit<=100):\n",
    "    bill=(50*2.60)+((unit-50)*3.25)\n",
    "elif(unit<=200):\n",
    "    bill=(50*2.60)+(50*3.25)+((unit-100)*5.26)\n",
    "elif(unit>200):\n",
    "    bill=(50*2.60)+(50*3.25)+(100*5.26)+((unit-200)*8.45)\n",
    "\n",
    "print(\"Your Bill is:\", bill)"
   ]
  }
 ],
 "metadata": {
  "kernelspec": {
   "display_name": "Python 3 (ipykernel)",
   "language": "python",
   "name": "python3"
  },
  "language_info": {
   "codemirror_mode": {
    "name": "ipython",
    "version": 3
   },
   "file_extension": ".py",
   "mimetype": "text/x-python",
   "name": "python",
   "nbconvert_exporter": "python",
   "pygments_lexer": "ipython3",
   "version": "3.10.9"
  }
 },
 "nbformat": 4,
 "nbformat_minor": 4
}
