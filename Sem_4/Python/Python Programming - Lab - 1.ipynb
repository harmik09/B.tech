{
 "cells": [
  {
   "cell_type": "markdown",
   "metadata": {},
   "source": [
    "<a href='https://www.darshan.ac.in/'> <img src='https://www.darshan.ac.in/Content/media/DU_Logo.svg' width=\"250\" height=\"10\"/></a>\n",
    "<pre>\n",
    "<center><b><h1>Python Programming - 2301CS404</b></center>\n",
    "<center><b><h1>Lab - 1</b></center>    \n",
    "<pre>"
   ]
  },
  {
   "cell_type": "markdown",
   "metadata": {},
   "source": [
    "### 01) WAP to print “Hello World”"
   ]
  },
  {
   "cell_type": "code",
   "execution_count": 2,
   "metadata": {},
   "outputs": [
    {
     "name": "stdout",
     "output_type": "stream",
     "text": [
      "Hello World\n"
     ]
    }
   ],
   "source": [
    "print(\"Hello World\")"
   ]
  },
  {
   "cell_type": "markdown",
   "metadata": {},
   "source": [
    "### 02) WAP to print addition of two numbers with and without using input()."
   ]
  },
  {
   "cell_type": "code",
   "execution_count": null,
   "metadata": {},
   "outputs": [],
   "source": [
    "first=int(input(\"Enter first number:\"))\n",
    "second=int(input(\"Enter second number:\"))\n",
    "add=first+second\n",
    "print(\"Addition of number:\",add)"
   ]
  },
  {
   "cell_type": "markdown",
   "metadata": {},
   "source": [
    "### 03) WAP to check the type of the variable."
   ]
  },
  {
   "cell_type": "code",
   "execution_count": 7,
   "metadata": {},
   "outputs": [
    {
     "name": "stdout",
     "output_type": "stream",
     "text": [
      "a: <class 'str'>\n",
      "b: <class 'int'>\n",
      "c: <class 'float'>\n",
      "d: <class 'bool'>\n"
     ]
    }
   ],
   "source": [
    "a=\"abc\"\n",
    "b=10\n",
    "c=1.5\n",
    "d=True\n",
    "print(\"a:\",type(a))\n",
    "print(\"b:\",type(b))\n",
    "print(\"c:\",type(c))\n",
    "print(\"d:\",type(d))\n"
   ]
  },
  {
   "cell_type": "markdown",
   "metadata": {},
   "source": [
    "### 04) WAP to calculate simple interest."
   ]
  },
  {
   "cell_type": "code",
   "execution_count": 9,
   "metadata": {},
   "outputs": [
    {
     "name": "stdout",
     "output_type": "stream",
     "text": [
      "Enter principle:10\n",
      "Enter rate of interest:20\n",
      "Enter time period1\n",
      "Simple Interest is:  2.0\n"
     ]
    }
   ],
   "source": [
    "p=int(input(\"Enter principle:\"))\n",
    "i=int(input(\"Enter rate of interest:\"))\n",
    "t=int(input(\"Enter time period\"))\n",
    "\n",
    "si=(p*i*t)/100\n",
    "\n",
    "print(\"Simple Interest is: \",si)"
   ]
  },
  {
   "cell_type": "markdown",
   "metadata": {},
   "source": [
    "### 05) WAP to calculate area and perimeter of a circle."
   ]
  },
  {
   "cell_type": "code",
   "execution_count": 11,
   "metadata": {},
   "outputs": [
    {
     "name": "stdout",
     "output_type": "stream",
     "text": [
      "Enter Radius:3.4\n",
      "Area is 36.2984 and Perimeter is 21.352\n"
     ]
    }
   ],
   "source": [
    "radius=float(input(\"Enter Radius:\"))\n",
    "\n",
    "area=3.14*radius*radius\n",
    "perimeter=2*3.14*radius\n",
    "\n",
    "print(f\"Area is {area} and Perimeter is {perimeter}\")"
   ]
  },
  {
   "cell_type": "markdown",
   "metadata": {},
   "source": [
    "### 06) WAP to calculate area of a triangle."
   ]
  },
  {
   "cell_type": "code",
   "execution_count": 12,
   "metadata": {},
   "outputs": [
    {
     "name": "stdout",
     "output_type": "stream",
     "text": [
      "Enter height:10\n",
      "Enter base:20\n",
      "Area of triangle is  200.0\n"
     ]
    }
   ],
   "source": [
    "height=float(input(\"Enter height:\"))\n",
    "base=float(input(\"Enter base:\"))\n",
    "\n",
    "area=height*base\n",
    "\n",
    "print(\"Area of triangle is \", area)"
   ]
  },
  {
   "cell_type": "markdown",
   "metadata": {},
   "source": [
    "### 07) WAP to compute quotient and remainder."
   ]
  },
  {
   "cell_type": "code",
   "execution_count": 14,
   "metadata": {},
   "outputs": [
    {
     "name": "stdout",
     "output_type": "stream",
     "text": [
      "Enter A:10\n",
      "Enter B:5\n",
      "Quotient is 2.0 and Remainder is 0\n"
     ]
    }
   ],
   "source": [
    "a=int(input(\"Enter A:\"))\n",
    "b=int(input(\"Enter B:\"))\n",
    "\n",
    "print(f\"Quotient is {a/b} and Remainder is {a%b}\")"
   ]
  },
  {
   "cell_type": "markdown",
   "metadata": {},
   "source": [
    "### 08) WAP to convert degree into Fahrenheit and vice versa."
   ]
  },
  {
   "cell_type": "code",
   "execution_count": 15,
   "metadata": {},
   "outputs": [
    {
     "name": "stdout",
     "output_type": "stream",
     "text": [
      "Enter Temprature into Celsius2\n",
      "fahrenheit is: 35.6\n",
      "Enter temprature into fahrenheit0\n",
      "celsius is -17.77777777777778\n"
     ]
    }
   ],
   "source": [
    "celsius=float(input(\"Enter Temprature into Celsius\"))\n",
    "fahrenheit= celsius*(9/5)+32\n",
    "print(\"fahrenheit is:\",fahrenheit)\n",
    "\n",
    "fahrenheit=float(input(\"Enter temprature into fahrenheit\"))\n",
    "celsius=(fahrenheit-32)*5/9\n",
    "print(\"celsius is\",celsius)"
   ]
  },
  {
   "cell_type": "markdown",
   "metadata": {},
   "source": [
    "### 09) WAP to find the distance between two points in 2-D space."
   ]
  },
  {
   "cell_type": "code",
   "execution_count": 17,
   "metadata": {},
   "outputs": [
    {
     "name": "stdout",
     "output_type": "stream",
     "text": [
      "Enter x1:10\n",
      "Enter y1:20\n",
      "Enter x2:5\n",
      "Enter y2:10\n",
      "Distance is 5.0\n"
     ]
    }
   ],
   "source": [
    "import math\n",
    "\n",
    "x1=int(input(\"Enter x1:\"))\n",
    "y1=int(input(\"Enter y1:\"))\n",
    "\n",
    "x2=int(input(\"Enter x2:\"))\n",
    "y2=int(input(\"Enter y2:\"))\n",
    "\n",
    "distance=math.sqrt(((x2-x1)*(x2-x1))+((y1-y1)*(y2-y1)))\n",
    "\n",
    "print(\"Distance is\", distance)"
   ]
  },
  {
   "cell_type": "markdown",
   "metadata": {},
   "source": [
    "### 10) WAP to print sum of n natural numbers."
   ]
  },
  {
   "cell_type": "code",
   "execution_count": 18,
   "metadata": {},
   "outputs": [
    {
     "name": "stdout",
     "output_type": "stream",
     "text": [
      "Enter a:10\n",
      "Enter b:10\n",
      "Summation 20\n"
     ]
    }
   ],
   "source": [
    "f=int(input(\"Enter a:\"))\n",
    "b=int(input(\"Enter b:\"))\n",
    "\n",
    "sum=a+b\n",
    "\n",
    "print(\"Summation\",sum)"
   ]
  },
  {
   "cell_type": "markdown",
   "metadata": {},
   "source": [
    "### 11) WAP to print sum of square of n natural numbers."
   ]
  },
  {
   "cell_type": "code",
   "execution_count": 19,
   "metadata": {},
   "outputs": [
    {
     "name": "stdout",
     "output_type": "stream",
     "text": [
      "Enter a:10\n",
      "Enter b:20\n",
      "Summation 500\n"
     ]
    }
   ],
   "source": [
    "f=int(input(\"Enter a:\"))\n",
    "b=int(input(\"Enter b:\"))\n",
    "\n",
    "sqsum=((a*a)+(b*b))\n",
    "\n",
    "print(\"Summation\",sqsum)"
   ]
  },
  {
   "cell_type": "markdown",
   "metadata": {},
   "source": [
    "### 12) WAP to concate the first and last name of the student."
   ]
  },
  {
   "cell_type": "code",
   "execution_count": 21,
   "metadata": {},
   "outputs": [
    {
     "name": "stdout",
     "output_type": "stream",
     "text": [
      "Enter First Name:Harmik\n",
      "Enter Last Name: Rathod\n",
      "Harmik Rathod\n"
     ]
    }
   ],
   "source": [
    "firstname=input(\"Enter First Name:\")\n",
    "lastname=input(\"Enter Last Name: \")\n",
    "\n",
    "con=firstname+\" \"+lastname\n",
    "\n",
    "print(con)"
   ]
  },
  {
   "cell_type": "markdown",
   "metadata": {},
   "source": [
    "### 13) WAP to swap two numbers."
   ]
  },
  {
   "cell_type": "code",
   "execution_count": 22,
   "metadata": {},
   "outputs": [
    {
     "name": "stdout",
     "output_type": "stream",
     "text": [
      "Enter First No.10\n",
      "Enter Second No.20\n",
      "First is 20 and second is 10\n"
     ]
    }
   ],
   "source": [
    "fno=int(input(\"Enter First No.\"))\n",
    "sno=int(input(\"Enter Second No.\"))\n",
    "\n",
    "temp=fno\n",
    "fno=sno\n",
    "sno=temp\n",
    "\n",
    "print(f\"First is {fno} and second is {sno}\")"
   ]
  },
  {
   "cell_type": "markdown",
   "metadata": {},
   "source": [
    "### 14) WAP to get the distance from user into kilometer, and convert it into meter, feet, inches and centimeter."
   ]
  },
  {
   "cell_type": "code",
   "execution_count": 26,
   "metadata": {},
   "outputs": [
    {
     "name": "stdout",
     "output_type": "stream",
     "text": [
      "Enter Distance: 1\n",
      "Meter 1000\n",
      "feet 3280.84\n",
      "inch 39370.08\n",
      "cm 39370.08\n"
     ]
    }
   ],
   "source": [
    "km=int(input(\"Enter Distance: \"))\n",
    "\n",
    "print(\"Meter\",(km*1000))\n",
    "print(\"feet\",(km*3280.84))\n",
    "print(\"inch\",(km*39370.08))\n",
    "print(\"cm\",(km*39370.08))"
   ]
  },
  {
   "cell_type": "markdown",
   "metadata": {},
   "source": [
    "### 15) WAP to get day, month and year from the user and print the date in the given format: 23-11-2024."
   ]
  },
  {
   "cell_type": "code",
   "execution_count": 27,
   "metadata": {},
   "outputs": [
    {
     "name": "stdout",
     "output_type": "stream",
     "text": [
      "Enter Day10\n",
      "Enter Month12\n",
      "Enter Year2024\n",
      "10-12-2024\n"
     ]
    }
   ],
   "source": [
    "day=int(input(\"Enter Day\"))\n",
    "month=int(input(\"Enter Month\"))\n",
    "year=int(input(\"Enter Year\"))\n",
    "\n",
    "print(day,month,year,sep=\"-\")"
   ]
  }
 ],
 "metadata": {
  "kernelspec": {
   "display_name": "Python 3 (ipykernel)",
   "language": "python",
   "name": "python3"
  },
  "language_info": {
   "codemirror_mode": {
    "name": "ipython",
    "version": 3
   },
   "file_extension": ".py",
   "mimetype": "text/x-python",
   "name": "python",
   "nbconvert_exporter": "python",
   "pygments_lexer": "ipython3",
   "version": "3.10.9"
  },
  "vscode": {
   "interpreter": {
    "hash": "31f2aee4e71d21fbe5cf8b01ff0e069b9275f58929596ceb00d14d90e3e16cd6"
   }
  }
 },
 "nbformat": 4,
 "nbformat_minor": 4
}
